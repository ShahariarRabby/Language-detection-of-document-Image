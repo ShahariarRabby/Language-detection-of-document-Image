{
 "cells": [
  {
   "cell_type": "code",
   "execution_count": 1,
   "metadata": {},
   "outputs": [
    {
     "name": "stderr",
     "output_type": "stream",
     "text": [
      "Using TensorFlow backend.\n"
     ]
    }
   ],
   "source": [
    "import cv2\n",
    "import numpy as np\n",
    "import matplotlib.pyplot as plt\n",
    "\n",
    "import pandas as pd\n",
    "\n",
    "%matplotlib notebook\n",
    "\n",
    "\n",
    "import keras\n",
    "\n",
    "from keras.layers import Convolution2D, Flatten, Dense, MaxPool2D, Activation, Dropout\n",
    "from keras.models import Sequential\n",
    "from keras.utils import np_utils"
   ]
  },
  {
   "cell_type": "code",
   "execution_count": 2,
   "metadata": {},
   "outputs": [],
   "source": [
    "import os"
   ]
  },
  {
   "cell_type": "code",
   "execution_count": 3,
   "metadata": {},
   "outputs": [
    {
     "data": {
      "text/plain": [
       "<matplotlib.image.AxesImage at 0x7f5ed7077400>"
      ]
     },
     "execution_count": 3,
     "metadata": {},
     "output_type": "execute_result"
    },
    {
     "data": {
      "image/png": "[encoded data removed]",
      "text/plain": [
       "<Figure size 432x288 with 1 Axes>"
      ]
     },
     "metadata": {
      "needs_background": "light"
     },
     "output_type": "display_data"
    }
   ],
   "source": [
    "img = cv2.imread('hindi1.jpg',0)\n",
    "plt.imshow(img,'gray')"
   ]
  },
  {
   "cell_type": "code",
   "execution_count": 4,
   "metadata": {},
   "outputs": [],
   "source": [
    "def removeblank(charimg):\n",
    "    \n",
    "    cimg = charimg.copy()\n",
    "    \n",
    "    r,c = cimg.shape\n",
    "    \n",
    "    minrow = np.inf\n",
    "    maxrow = -1*np.inf\n",
    "    mincol = np.inf\n",
    "    maxcol = -1*np.inf\n",
    "    \n",
    "    for i in range(r):\n",
    "            \n",
    "        for j in range(c):\n",
    "\n",
    "            if(cimg[i][j]==255 and i<minrow):\n",
    "                minrow = i\n",
    "\n",
    "\n",
    "            if(cimg[i][j]==255 and i>maxrow):\n",
    "                maxrow = i\n",
    "\n",
    "\n",
    "            if(cimg[i][j]==255 and j<mincol):\n",
    "                mincol = j\n",
    "\n",
    "\n",
    "            if(cimg[i][j]==255 and j>maxcol):\n",
    "                maxcol = j\n",
    "\n",
    "    new = cimg[minrow:maxrow+1 , mincol:maxcol+1]\n",
    "    \n",
    "    return new"
   ]
  },
  {
   "cell_type": "code",
   "execution_count": 6,
   "metadata": {},
   "outputs": [
    {
     "name": "stdout",
     "output_type": "stream",
     "text": [
      "Tamil\n",
      "English\n",
      "Hindi\n"
     ]
    }
   ],
   "source": [
    "langName = []\n",
    "lanc = 0\n",
    "imgarr = []\n",
    "\n",
    "path = './Datasets/'\n",
    "dirs = os.listdir('./Datasets/')\n",
    "\n",
    "for i in dirs:\n",
    "    \n",
    "  \n",
    "    if(i[0]=='.'):\n",
    "        continue\n",
    "   \n",
    "\n",
    "    print(i)\n",
    "    \n",
    "    st = path+i\n",
    "\n",
    "    \n",
    "    for j in os.listdir(st):\n",
    "        \n",
    "        \n",
    "        if(j[0]=='.'):\n",
    "            continue\n",
    "            \n",
    "        st2 = st+'/'+j\n",
    "        \n",
    "        count_img = 0\n",
    "        \n",
    "        for k in os.listdir(st2):\n",
    "            \n",
    "            if(k[0]=='.'):\n",
    "                continue\n",
    "            \n",
    "            img = cv2.imread(st2+'/'+k, 0)\n",
    "            \n",
    "            count_img+=1\n",
    "            \n",
    "            if((i=='English' and count_img>180) or (i=='Hindi' and count_img>240)):\n",
    "                break\n",
    "            \n",
    "            if(i=='Hindi'):\n",
    "                random , img = cv2.threshold(img,0,255,cv2.THRESH_BINARY+cv2.THRESH_OTSU)\n",
    "                \n",
    "            else:          \n",
    "                random , img = cv2.threshold(img,0,255,cv2.THRESH_BINARY_INV+cv2.THRESH_OTSU)\n",
    "            \n",
    "            #check this\n",
    "            img = img.astype('uint8')\n",
    "            \n",
    "            finimg = img\n",
    "        \n",
    "            finimg = removeblank(finimg)\n",
    "\n",
    "            finimg = cv2.resize(finimg, dsize=(25, 25), interpolation=cv2.INTER_CUBIC)\n",
    "\n",
    "            random , finimg = cv2.threshold(finimg,0,255,cv2.THRESH_BINARY+cv2.THRESH_OTSU)\n",
    "\n",
    "            imgarr.append(finimg)\n",
    "    \n",
    "            langName.append(lanc)\n",
    "            \n",
    "    lanc = lanc+1"
   ]
  },
  {
   "cell_type": "code",
   "execution_count": 7,
   "metadata": {},
   "outputs": [
    {
     "data": {
      "text/plain": [
       "(33474, 3)"
      ]
     },
     "execution_count": 7,
     "metadata": {},
     "output_type": "execute_result"
    }
   ],
   "source": [
    "#convert list of class of images into desired form\n",
    "labs = np_utils.to_categorical(langName)\n",
    "labs.shape"
   ]
  },
  {
   "cell_type": "code",
   "execution_count": 50,
   "metadata": {},
   "outputs": [
    {
     "data": {
      "text/plain": [
       "array([[1., 0., 0.],\n",
       "       [1., 0., 0.],\n",
       "       [1., 0., 0.],\n",
       "       ...,\n",
       "       [0., 0., 1.],\n",
       "       [0., 0., 1.],\n",
       "       [0., 0., 1.]], dtype=float32)"
      ]
     },
     "execution_count": 50,
     "metadata": {},
     "output_type": "execute_result"
    }
   ],
   "source": [
    "labs"
   ]
  },
  {
   "cell_type": "code",
   "execution_count": 8,
   "metadata": {},
   "outputs": [
    {
     "data": {
      "text/plain": [
       "(array([0, 1, 2]), array([12400, 10440, 10634]))"
      ]
     },
     "execution_count": 8,
     "metadata": {},
     "output_type": "execute_result"
    }
   ],
   "source": [
    "#to see image counts of all three categories loaded for training\n",
    "np.unique(langName,return_counts=True)"
   ]
  },
  {
   "cell_type": "code",
   "execution_count": 9,
   "metadata": {},
   "outputs": [],
   "source": [
    "#converts image list to array\n",
    "imgarr = np.array(imgarr).reshape((len(imgarr), 25, 25, 1))"
   ]
  },
  {
   "cell_type": "code",
   "execution_count": 10,
   "metadata": {},
   "outputs": [
    {
     "name": "stdout",
     "output_type": "stream",
     "text": [
      "_________________________________________________________________\n",
      "Layer (type)                 Output Shape              Param #   \n",
      "=================================================================\n",
      "conv2d_1 (Conv2D)            (None, 23, 23, 64)        640       \n",
      "_________________________________________________________________\n",
      "activation_1 (Activation)    (None, 23, 23, 64)        0         \n",
      "_________________________________________________________________\n",
      "conv2d_2 (Conv2D)            (None, 21, 21, 32)        18464     \n",
      "_________________________________________________________________\n",
      "activation_2 (Activation)    (None, 21, 21, 32)        0         \n",
      "_________________________________________________________________\n",
      "max_pooling2d_1 (MaxPooling2 (None, 10, 10, 32)        0         \n",
      "_________________________________________________________________\n",
      "conv2d_3 (Conv2D)            (None, 8, 8, 16)          4624      \n",
      "_________________________________________________________________\n",
      "activation_3 (Activation)    (None, 8, 8, 16)          0         \n",
      "_________________________________________________________________\n",
      "max_pooling2d_2 (MaxPooling2 (None, 4, 4, 16)          0         \n",
      "_________________________________________________________________\n",
      "conv2d_4 (Conv2D)            (None, 2, 2, 8)           1160      \n",
      "_________________________________________________________________\n",
      "activation_4 (Activation)    (None, 2, 2, 8)           0         \n",
      "_________________________________________________________________\n",
      "max_pooling2d_3 (MaxPooling2 (None, 1, 1, 8)           0         \n",
      "_________________________________________________________________\n",
      "flatten_1 (Flatten)          (None, 8)                 0         \n",
      "_________________________________________________________________\n",
      "dropout_1 (Dropout)          (None, 8)                 0         \n",
      "_________________________________________________________________\n",
      "dense_1 (Dense)              (None, 3)                 27        \n",
      "_________________________________________________________________\n",
      "activation_5 (Activation)    (None, 3)                 0         \n",
      "=================================================================\n",
      "Total params: 24,915\n",
      "Trainable params: 24,915\n",
      "Non-trainable params: 0\n",
      "_________________________________________________________________\n"
     ]
    }
   ],
   "source": [
    "model = Sequential()\n",
    "\n",
    "model.add(Convolution2D(64, (3, 3), input_shape=(25, 25, 1)))\n",
    "model.add(Activation('relu'))\n",
    "\n",
    "model.add(Convolution2D(32, (3, 3)))\n",
    "model.add(Activation('relu'))\n",
    "\n",
    "model.add(MaxPool2D(pool_size=(2, 2)))\n",
    "\n",
    "model.add(Convolution2D(16, (3, 3)))\n",
    "model.add(Activation('relu'))\n",
    "\n",
    "model.add(MaxPool2D(pool_size=(2, 2)))\n",
    "\n",
    "\n",
    "model.add(Convolution2D(8, (3, 3)))\n",
    "model.add(Activation('relu'))\n",
    "\n",
    "model.add(MaxPool2D(pool_size=(2, 2)))\n",
    "\n",
    "\n",
    "model.add(Flatten())\n",
    "model.add(Dropout(0.4))\n",
    "\n",
    "model.add(Dense(labs.shape[1]))\n",
    "model.add(Activation('softmax'))\n",
    "\n",
    "model.summary()\n",
    "model.compile(loss='categorical_crossentropy', optimizer='adam', metrics=['accuracy'])"
   ]
  },
  {
   "cell_type": "code",
   "execution_count": 11,
   "metadata": {},
   "outputs": [
    {
     "name": "stdout",
     "output_type": "stream",
     "text": [
      "Train on 30126 samples, validate on 3348 samples\n",
      "Epoch 1/40\n",
      "30126/30126 [==============================] - 47s 2ms/step - loss: 1.2486 - acc: 0.5373 - val_loss: 1.0745 - val_acc: 0.1356\n",
      "Epoch 2/40\n",
      "30126/30126 [==============================] - 48s 2ms/step - loss: 0.7129 - acc: 0.6738 - val_loss: 0.9315 - val_acc: 0.5227\n",
      "Epoch 3/40\n",
      "30126/30126 [==============================] - 45s 2ms/step - loss: 0.5623 - acc: 0.7663 - val_loss: 0.9229 - val_acc: 0.5806\n",
      "Epoch 4/40\n",
      "30126/30126 [==============================] - 43s 1ms/step - loss: 0.4870 - acc: 0.7991 - val_loss: 0.6487 - val_acc: 0.7180\n",
      "Epoch 5/40\n",
      "30126/30126 [==============================] - 49s 2ms/step - loss: 0.4486 - acc: 0.8134 - val_loss: 0.6117 - val_acc: 0.7524\n",
      "Epoch 6/40\n",
      "30126/30126 [==============================] - 49s 2ms/step - loss: 0.4155 - acc: 0.8295 - val_loss: 0.3785 - val_acc: 0.8692\n",
      "Epoch 7/40\n",
      "30126/30126 [==============================] - 48s 2ms/step - loss: 0.3955 - acc: 0.8405 - val_loss: 0.7381 - val_acc: 0.7076\n",
      "Epoch 8/40\n",
      "30126/30126 [==============================] - 54s 2ms/step - loss: 0.3822 - acc: 0.8470 - val_loss: 0.5163 - val_acc: 0.7981\n",
      "Epoch 9/40\n",
      "30126/30126 [==============================] - 47s 2ms/step - loss: 0.3646 - acc: 0.8526 - val_loss: 0.4298 - val_acc: 0.8441\n",
      "Epoch 10/40\n",
      "30126/30126 [==============================] - 46s 2ms/step - loss: 0.3465 - acc: 0.8606 - val_loss: 0.5054 - val_acc: 0.8163\n",
      "Epoch 11/40\n",
      "30126/30126 [==============================] - 48s 2ms/step - loss: 0.3455 - acc: 0.8603 - val_loss: 0.6315 - val_acc: 0.7631\n",
      "Epoch 12/40\n",
      "30126/30126 [==============================] - 46s 2ms/step - loss: 0.3273 - acc: 0.8687 - val_loss: 0.5239 - val_acc: 0.7927\n",
      "Epoch 13/40\n",
      "30126/30126 [==============================] - 43s 1ms/step - loss: 0.3169 - acc: 0.8735 - val_loss: 0.2326 - val_acc: 0.9370\n",
      "Epoch 14/40\n",
      "30126/30126 [==============================] - 42s 1ms/step - loss: 0.3124 - acc: 0.8755 - val_loss: 0.4396 - val_acc: 0.8363\n",
      "Epoch 15/40\n",
      "30126/30126 [==============================] - 42s 1ms/step - loss: 0.3031 - acc: 0.8775 - val_loss: 0.4059 - val_acc: 0.8617\n",
      "Epoch 16/40\n",
      "30126/30126 [==============================] - 43s 1ms/step - loss: 0.2960 - acc: 0.8827 - val_loss: 0.3940 - val_acc: 0.8650\n",
      "Epoch 17/40\n",
      "30126/30126 [==============================] - 43s 1ms/step - loss: 0.2962 - acc: 0.8788 - val_loss: 0.5770 - val_acc: 0.7897\n",
      "Epoch 18/40\n",
      "30126/30126 [==============================] - 44s 1ms/step - loss: 0.2847 - acc: 0.8844 - val_loss: 0.5650 - val_acc: 0.7984\n",
      "Epoch 19/40\n",
      "30126/30126 [==============================] - 43s 1ms/step - loss: 0.2858 - acc: 0.8845 - val_loss: 0.6484 - val_acc: 0.7643\n",
      "Epoch 20/40\n",
      "30126/30126 [==============================] - 46s 2ms/step - loss: 0.2713 - acc: 0.8895 - val_loss: 0.3757 - val_acc: 0.8644\n",
      "Epoch 21/40\n",
      "30126/30126 [==============================] - 45s 2ms/step - loss: 0.2648 - acc: 0.8913 - val_loss: 0.4459 - val_acc: 0.8462\n",
      "Epoch 22/40\n",
      "30126/30126 [==============================] - 46s 2ms/step - loss: 0.2661 - acc: 0.8907 - val_loss: 0.5311 - val_acc: 0.8274\n",
      "Epoch 23/40\n",
      "30126/30126 [==============================] - 46s 2ms/step - loss: 0.2633 - acc: 0.8915 - val_loss: 0.3275 - val_acc: 0.8850\n",
      "Epoch 24/40\n",
      "30126/30126 [==============================] - 48s 2ms/step - loss: 0.2626 - acc: 0.8936 - val_loss: 0.4435 - val_acc: 0.8575\n",
      "Epoch 25/40\n",
      "30126/30126 [==============================] - 45s 1ms/step - loss: 0.2543 - acc: 0.8967 - val_loss: 0.5205 - val_acc: 0.8330\n",
      "Epoch 26/40\n",
      "30126/30126 [==============================] - 45s 1ms/step - loss: 0.2553 - acc: 0.8968 - val_loss: 0.4236 - val_acc: 0.8611\n",
      "Epoch 27/40\n",
      "30126/30126 [==============================] - 44s 1ms/step - loss: 0.2534 - acc: 0.8957 - val_loss: 0.5053 - val_acc: 0.8318\n",
      "Epoch 28/40\n",
      "30126/30126 [==============================] - 45s 1ms/step - loss: 0.2454 - acc: 0.8992 - val_loss: 0.4457 - val_acc: 0.8483\n",
      "Epoch 29/40\n",
      "30126/30126 [==============================] - 45s 1ms/step - loss: 0.2499 - acc: 0.8988 - val_loss: 0.4832 - val_acc: 0.8447\n",
      "Epoch 30/40\n",
      "30126/30126 [==============================] - 45s 1ms/step - loss: 0.2531 - acc: 0.8952 - val_loss: 0.4031 - val_acc: 0.8644\n",
      "Epoch 31/40\n",
      "30126/30126 [==============================] - 47s 2ms/step - loss: 0.2389 - acc: 0.9016 - val_loss: 0.5263 - val_acc: 0.8348\n",
      "Epoch 32/40\n",
      "30126/30126 [==============================] - 44s 1ms/step - loss: 0.2326 - acc: 0.9038 - val_loss: 0.2879 - val_acc: 0.9041\n",
      "Epoch 33/40\n",
      "30126/30126 [==============================] - 46s 2ms/step - loss: 0.2341 - acc: 0.9039 - val_loss: 0.4335 - val_acc: 0.8593\n",
      "Epoch 34/40\n",
      "30126/30126 [==============================] - 47s 2ms/step - loss: 0.2357 - acc: 0.9017 - val_loss: 0.6184 - val_acc: 0.8002\n",
      "Epoch 35/40\n",
      "30126/30126 [==============================] - 45s 1ms/step - loss: 0.2361 - acc: 0.9034 - val_loss: 0.4643 - val_acc: 0.8507\n",
      "Epoch 36/40\n",
      "30126/30126 [==============================] - 45s 1ms/step - loss: 0.2274 - acc: 0.9031 - val_loss: 0.7735 - val_acc: 0.7551\n",
      "Epoch 37/40\n",
      "30126/30126 [==============================] - 45s 2ms/step - loss: 0.2257 - acc: 0.9049 - val_loss: 0.5969 - val_acc: 0.8211\n",
      "Epoch 38/40\n",
      "30126/30126 [==============================] - 47s 2ms/step - loss: 0.2218 - acc: 0.9061 - val_loss: 0.4498 - val_acc: 0.8539\n",
      "Epoch 39/40\n",
      "30126/30126 [==============================] - 47s 2ms/step - loss: 0.2212 - acc: 0.9074 - val_loss: 0.5972 - val_acc: 0.8127\n",
      "Epoch 40/40\n",
      "30126/30126 [==============================] - 45s 1ms/step - loss: 0.2180 - acc: 0.9083 - val_loss: 0.3886 - val_acc: 0.8868\n"
     ]
    }
   ],
   "source": [
    "hist = model.fit(imgarr, labs,\n",
    "                epochs=40,\n",
    "                shuffle=True,\n",
    "                batch_size=100,\n",
    "                validation_split=0.1)"
   ]
  },
  {
   "cell_type": "code",
   "execution_count": 12,
   "metadata": {},
   "outputs": [
    {
     "name": "stdout",
     "output_type": "stream",
     "text": [
      "Saved model to disk\n"
     ]
    }
   ],
   "source": [
    "#to save cnn model\n",
    "\n",
    "from keras.models import model_from_json\n",
    "model_json = model.to_json()\n",
    "with open(\"40epochs64kernels76.json\", \"w\") as json_file:\n",
    "    json_file.write(model_json)\n",
    "# serialize weights to HDF5\n",
    "model.save_weights(\"40epochs64kernels76.h5\")\n",
    "print(\"Saved model to disk\")"
   ]
  },
  {
   "cell_type": "markdown",
   "metadata": {},
   "source": [
    "MODEL1"
   ]
  },
  {
   "cell_type": "code",
   "execution_count": 272,
   "metadata": {},
   "outputs": [
    {
     "name": "stdout",
     "output_type": "stream",
     "text": [
      "Loaded model from disk\n"
     ]
    }
   ],
   "source": [
    "# load json and create model\n",
    "from keras.models import model_from_json\n",
    "json_file = open('40epochs64kernels76.json', 'r')\n",
    "loaded_model_json = json_file.read()\n",
    "json_file.close()\n",
    "loaded_model = model_from_json(loaded_model_json)\n",
    "# load weights into new model\n",
    "loaded_model.load_weights(\"40epochs64kernels76.h5\")\n",
    "print(\"Loaded model from disk\")\n",
    " \n",
    "# evaluate loaded model on test data\n",
    "loaded_model.compile(loss='binary_crossentropy', optimizer='rmsprop', metrics=['accuracy'])\n",
    "\n",
    "model = loaded_model "
   ]
  },
  {
   "cell_type": "markdown",
   "metadata": {},
   "source": [
    "MODEL2"
   ]
  },
  {
   "cell_type": "code",
   "execution_count": 183,
   "metadata": {},
   "outputs": [
    {
     "name": "stdout",
     "output_type": "stream",
     "text": [
      "Loaded model from disk\n"
     ]
    }
   ],
   "source": [
    "# load json and create model\n",
    "from keras.models import model_from_json\n",
    "json_file = open('hindengtamwithcrop.json73', 'r')\n",
    "loaded_model_json = json_file.read()\n",
    "json_file.close()\n",
    "loaded_model = model_from_json(loaded_model_json)\n",
    "# load weights into new model\n",
    "loaded_model.load_weights(\"hindengtamwithcrop73.h5\")\n",
    "print(\"Loaded model from disk\")\n",
    " \n",
    "# evaluate loaded model on test data\n",
    "loaded_model.compile(loss='binary_crossentropy', optimizer='rmsprop', metrics=['accuracy'])\n",
    "\n",
    "model = loaded_model "
   ]
  },
  {
   "cell_type": "code",
   "execution_count": 298,
   "metadata": {},
   "outputs": [],
   "source": [
    "def sepwords(Image, cord):\n",
    "    img = Image.copy()\n",
    "    finalCord = []\n",
    "    area = []\n",
    "    \n",
    "    for n in range(len(cord)):\n",
    "        #if not detected word i.e. ratio is less\n",
    "        if(cord[n][2]/cord[n][3] < 2):\n",
    "\n",
    "            finalCord.append(cord[n])\n",
    "            area.append(cord[n][2]*cord[n][3])\n",
    "            continue\n",
    "            \n",
    "        #extracting the word\n",
    "        hinimg = img[cord[n][1]:cord[n][1]+cord[n][3], cord[n][0]:cord[n][0]+cord[n][2]].copy()\n",
    "        #plt.subplot(4,1,1),plt.imshow(hinimg,'gray')\n",
    "        #plt.title('Word',fontsize=6,loc='center'),plt.xticks([]),plt.yticks([])\n",
    "        \n",
    "        \n",
    "        r,c = hinimg.shape\n",
    "        maxpixel=0\n",
    "        rowpixel=[]\n",
    "        \n",
    "        for i in range(r):\n",
    "            curpixel=0   \n",
    "            for j in range(c):\n",
    "\n",
    "                curpixel+=hinimg[i][j]\n",
    "\n",
    "            if curpixel>=maxpixel:\n",
    "                maxpixel=curpixel\n",
    "                rowOfline = i\n",
    "                \n",
    "            rowpixel.append(curpixel)\n",
    "\n",
    "            \n",
    "        for i in range(r):\n",
    "\n",
    "            if rowpixel[i]>= 0.80*maxpixel:\n",
    "\n",
    "                for j in  range(c):\n",
    "\n",
    "                    hinimg[i][j] = 0\n",
    "        \n",
    "        hini = hinimg.copy()\n",
    "        #plt.subplot(4,1,2),plt.imshow(hini,'gray')\n",
    "        #plt.title('Word without shirorekha',fontsize=6,loc='center'),plt.xticks([]),plt.yticks([])\n",
    "        \n",
    "        char = []\n",
    "        \n",
    "        contours, hierarchy = cv2.findContours(hini,cv2.RETR_EXTERNAL,cv2.CHAIN_APPROX_SIMPLE)\n",
    "        \n",
    "        for contour in contours:\n",
    "            # get rectangle bounding contour\n",
    "            [x, y, w, h] = cv2.boundingRect(contour)\n",
    "            \n",
    "            if(w/h<0.5):\n",
    "                continue\n",
    "\n",
    "            cv2.rectangle(hini, (x, y), (x + w, y + h), (150, 160, 154),2)\n",
    "            \n",
    "            #don't consider countours in upper zone\n",
    "            if(y<rowOfline):\n",
    "                continue\n",
    "                \n",
    "\n",
    "            finalCord.append((cord[n][0]+x, cord[n][1]+y-2, w, h+2))\n",
    "            area.append(w*(h+2))  \n",
    "    return finalCord"
   ]
  },
  {
   "cell_type": "code",
   "execution_count": 299,
   "metadata": {},
   "outputs": [
    {
     "data": {
      "text/plain": [
       "'4.0.0'"
      ]
     },
     "execution_count": 299,
     "metadata": {},
     "output_type": "execute_result"
    }
   ],
   "source": [
    "import cv2\n",
    "cv2.__version__"
   ]
  },
  {
   "cell_type": "code",
   "execution_count": 300,
   "metadata": {},
   "outputs": [
    {
     "name": "stdout",
     "output_type": "stream",
     "text": [
      "(720, 945)\n",
      "[[0.99050015 0.00368464 0.0058153 ]]\n",
      "[[9.9992335e-01 2.7610015e-05 4.8941532e-05]]\n",
      "[[9.9996769e-01 1.1643355e-05 2.0579249e-05]]\n",
      "[[0.52012473 0.19253325 0.28734195]]\n",
      "[[0.00193632 0.95122695 0.04683668]]\n",
      "[[0.01176348 0.9311143  0.05712223]]\n",
      "[[9.999999e-01 4.872812e-08 9.460879e-08]]\n",
      "[[9.999993e-01 2.753966e-07 4.794046e-07]]\n",
      "[[9.9837995e-01 6.0319208e-04 1.0168586e-03]]\n",
      "[[9.9999654e-01 1.2490350e-06 2.2290039e-06]]\n",
      "[[9.996275e-01 9.800713e-05 2.745982e-04]]\n",
      "[[0.52012473 0.19253325 0.28734195]]\n",
      "[[9.9999857e-01 5.1405988e-07 8.9996718e-07]]\n",
      "[[0.01128204 0.93329275 0.05542519]]\n",
      "[[0.03067509 0.19105758 0.7782673 ]]\n",
      "[[0.00995762 0.93808055 0.05196187]]\n",
      "[[0.8909146  0.00684843 0.10223688]]\n",
      "[[9.9999964e-01 1.0442158e-07 2.0085831e-07]]\n",
      "[[0.94677186 0.00435119 0.04887688]]\n",
      "[[9.996275e-01 9.800713e-05 2.745982e-04]]\n",
      "[[0.88250613 0.04598731 0.07150652]]\n",
      "[[0.52012473 0.19253325 0.28734195]]\n",
      "[[0.00594187 0.95299476 0.04106334]]\n",
      "[[9.9998569e-01 5.2184705e-06 9.1098491e-06]]\n",
      "[[1.0000000e+00 1.5749310e-09 3.1854919e-09]]\n",
      "[[0.01686502 0.9132765  0.06985852]]\n",
      "[[0.9829658  0.0016078  0.01542629]]\n",
      "[[9.9990320e-01 3.1040963e-05 6.5832275e-05]]\n",
      "[[9.9984610e-01 1.9230629e-05 1.3468725e-04]]\n",
      "[[9.999993e-01 2.753966e-07 4.794046e-07]]\n",
      "[[9.9999583e-01 1.4668373e-06 2.7343876e-06]]\n",
      "[[9.996275e-01 9.800713e-05 2.745982e-04]]\n",
      "[[1.0000000e+00 6.0297173e-10 1.1741457e-09]]\n",
      "[[0.02318406 0.8921827  0.08463325]]\n",
      "[[0.03068815 0.19091265 0.7783993 ]]\n",
      "[[9.999993e-01 2.753966e-07 4.794046e-07]]\n",
      "[[9.9962270e-01 9.9835925e-05 2.7744452e-04]]\n",
      "[[1.00000000e+00 1.12082586e-10 2.25253496e-10]]\n",
      "[[9.9999642e-01 1.2462054e-06 2.3577350e-06]]\n",
      "[[0.5877394  0.16370504 0.24855551]]\n",
      "[[9.9901223e-01 3.7704915e-04 6.1066612e-04]]\n",
      "[[9.9999857e-01 5.1405988e-07 8.9996718e-07]]\n",
      "[[0.02787004 0.8772887  0.09484135]]\n",
      "[[0.931426   0.02808078 0.04049317]]\n",
      "[[0.9932232  0.00264588 0.00413096]]\n",
      "[[0.33875436 0.37312198 0.28812367]]\n",
      "[[1.0566271e-08 9.9982822e-01 1.7170492e-04]]\n",
      "[[0.2547423  0.44311827 0.30213937]]\n",
      "[[0.984914   0.00584222 0.00924377]]\n",
      "[[2.4061583e-07 9.9965143e-01 3.4826962e-04]]\n",
      "[[2.2056068e-10 9.9996924e-01 3.0728701e-05]]\n",
      "[[8.887661e-08 9.996019e-01 3.980472e-04]]\n",
      "[[9.9996626e-01 1.1964050e-05 2.1847965e-05]]\n",
      "{0: 37, 1: 14, 2: 2}\n"
     ]
    },
    {
     "data": {
      "image/png": "[encoded data removed]",
      "text/plain": [
       "<Figure size 432x288 with 1 Axes>"
      ]
     },
     "metadata": {
      "needs_background": "light"
     },
     "output_type": "display_data"
    }
   ],
   "source": [
    "Image=cv2.imread('tamil.jpg', 0)\n",
    "area_pred = []\n",
    "\n",
    "rimg , cimg = Image.shape\n",
    "clahe = cv2.createCLAHE(clipLimit=2.0, tileGridSize=(8,8))\n",
    "\n",
    "Image = clahe.apply(Image)\n",
    "\n",
    "\n",
    "I=Image.copy()\n",
    "\n",
    "i=Image.copy()\n",
    "print(i.shape)\n",
    "chars = []\n",
    "#Otsu Thresholding\n",
    "blur = cv2.GaussianBlur(Image,(1,1),0)\n",
    "\n",
    "ret,th = cv2.threshold(blur,0,255,cv2.THRESH_BINARY_INV+cv2.THRESH_OTSU)\n",
    "\n",
    "\n",
    "\n",
    "\n",
    "# kernel = np.ones((3,3),np.uint8)\n",
    "# th = cv2.morphologyEx(th, cv2.MORPH_CLOSE, kernel)\n",
    "\n",
    "\n",
    "# grab the (x, y) coordinates of all pixel values that\n",
    "# are greater than zero, then use these coordinates to\n",
    "# compute a rotated bounding box that contains all\n",
    "# coordinates\n",
    "coords = np.column_stack(np.where(th > 0))\n",
    "angle = cv2.minAreaRect(coords)[-1]\n",
    " \n",
    "\n",
    "# # the `cv2.minAreaRect` function returns values in the\n",
    "# # range [-90, 0); as the rectangle rotates clockwise the\n",
    "# # returned angle trends to 0 -- in this special case we\n",
    "# # need to add 90 degrees to the angle\n",
    "if angle < -45:\n",
    "    angle = -(90 + angle)\n",
    "\n",
    "    \n",
    "else:    \n",
    "     angle = - angle\n",
    "    \n",
    "\n",
    "# # rotate the image to deskew it\n",
    "(h, w) = Image.shape[:2]\n",
    "center = (w // 2, h // 2)\n",
    "M = cv2.getRotationMatrix2D(center, angle, 1.0)\n",
    "th = cv2.warpAffine(th, M, (w, h),flags=cv2.INTER_CUBIC, borderMode=cv2.BORDER_REPLICATE)\n",
    "\n",
    "\n",
    "plt.figure(0)\n",
    "plt.imshow(th, cmap = 'gray')\n",
    "\n",
    "\n",
    "contours, hierarchy = cv2.findContours(th,cv2.RETR_EXTERNAL,cv2.CHAIN_APPROX_SIMPLE)\n",
    "\n",
    "chars=[]\n",
    "area = []\n",
    "for contour in contours:\n",
    "    # get rectangle bounding contour\n",
    "    [x, y, w, h] = cv2.boundingRect(contour)\n",
    "        \n",
    "    chars.append((x,y,w,h))\n",
    "    area.append(w*h)\n",
    "\n",
    "\n",
    "\n",
    "newchar =[]\n",
    "i = th.copy()\n",
    "\n",
    "\n",
    "newchar = sepwords(th,chars)\n",
    "chars = newchar\n",
    "\n",
    "\n",
    "checkar = []\n",
    "checkarlab = []\n",
    "checkcord = []\n",
    "pred = {}\n",
    "count = 0\n",
    "\n",
    "prd = {'Hindi':0 , 'English':0 , 'Tamil':0}\n",
    "\n",
    "for n in range(len(chars)):\n",
    "    \n",
    "    finimg = i[chars[n][1]:chars[n][1]+chars[n][3], chars[n][0]:chars[n][0]+chars[n][2]]\n",
    "    \n",
    "    if(finimg.shape[0]*finimg.shape[1] > rimg*cimg*0.00015 ):\n",
    "        \n",
    "        \n",
    "        \n",
    "        \n",
    "        checkcord.append(chars[n])\n",
    "        \n",
    "\n",
    "        finimg = finimg.astype('uint8')\n",
    "        random, finimg = cv2.threshold(finimg,0,255,cv2.THRESH_BINARY+cv2.THRESH_OTSU)\n",
    "        \n",
    "\n",
    "        finimg = cv2.resize(finimg, dsize=(25, 25), interpolation=cv2.INTER_CUBIC)\n",
    "    \n",
    "        \n",
    "\n",
    "        random , finimg = cv2.threshold(finimg,0,255,cv2.THRESH_BINARY+cv2.THRESH_OTSU)\n",
    "        \n",
    "        \n",
    "        checkar.append(finimg)\n",
    "        \n",
    "\n",
    "        finimg = np.array(finimg).reshape(( -1,25, 25, 1))\n",
    "        predval = model.predict(finimg)\n",
    "        \n",
    "        print(predval)\n",
    "        \n",
    "        if(predval[0][0]>=0.5):\n",
    "            prd['Tamil']+=1\n",
    "            \n",
    "        \n",
    "        elif(predval[0][1]>=0.5):\n",
    "            prd['English']+=1\n",
    "            \n",
    "        \n",
    "        elif(predval[0][2]>=0.5):\n",
    "            prd['Hindi']+=1\n",
    "            \n",
    "            \n",
    "        try:\n",
    "            pred[np.argmax(predval)]=pred[np.argmax(predval)]+1\n",
    "\n",
    "        except:\n",
    "            \n",
    "            pred[np.argmax(predval)]=1\n",
    "\n",
    "        \n",
    "        count += 1\n",
    "        checkarlab.append(predval)\n",
    "        \n",
    "\n",
    "print(pred)"
   ]
  },
  {
   "cell_type": "code",
   "execution_count": 296,
   "metadata": {},
   "outputs": [
    {
     "data": {
      "text/plain": [
       "'Tamil'"
      ]
     },
     "execution_count": 296,
     "metadata": {},
     "output_type": "execute_result"
    }
   ],
   "source": [
    "max(prd, key=prd.get)"
   ]
  },
  {
   "cell_type": "code",
   "execution_count": 297,
   "metadata": {},
   "outputs": [
    {
     "name": "stdout",
     "output_type": "stream",
     "text": [
      "Tamil\n"
     ]
    }
   ],
   "source": [
    "res=max(pred,key=pred.get)\n",
    "\n",
    "if(res==0):\n",
    "    print('Tamil')\n",
    "elif(res==1):\n",
    "    print('English')\n",
    "else:\n",
    "    print('Hindi')"
   ]
  },
  {
   "cell_type": "markdown",
   "metadata": {},
   "source": [
    "PRACTICE:"
   ]
  },
  {
   "cell_type": "code",
   "execution_count": null,
   "metadata": {},
   "outputs": [],
   "source": [
    "# #only contour part(not project part)\n",
    "\n",
    "\n",
    "# img = cv2.imread('hindi1.jpg',0)\n",
    "# plt.imshow(img, cmap='gray')\n",
    "\n",
    "# #read this: clahe\n",
    "# clahe = cv2.createCLAHE(clipLimit=2.0, tileGridSize=(8,8))\n",
    "# img = clahe.apply(img)\n",
    "\n",
    "\n",
    "# blur = cv2.GaussianBlur(img,(1,1),0)\n",
    "# ret,thresh = cv2.threshold(img,0,255,cv2.THRESH_BINARY_INV+cv2.THRESH_OTSU)\n",
    "\n",
    "# ########remove skew(angle)\n",
    "# coords = np.column_stack(np.where(thresh > 0))\n",
    "# angle = cv2.minAreaRect(coords)[-1]\n",
    "\n",
    "# if angle < -45:\n",
    "#     angle = -(90 + angle)\n",
    "\n",
    "    \n",
    "# else:    \n",
    "#     angle = - angle\n",
    "\n",
    "\n",
    "# (h, w) = thresh.shape[:2]\n",
    "# center = (w // 2, h // 2)\n",
    "# M = cv2.getRotationMatrix2D(center, angle, 1.0)\n",
    "# th = cv2.warpAffine(thresh, M, (w, h),flags=cv2.INTER_CUBIC, borderMode=cv2.BORDER_REPLICATE)\n",
    "\n",
    "# #########\n",
    "\n",
    "# contours,hierarchy = cv2.findContours(th,cv2.RETR_EXTERNAL,cv2.CHAIN_APPROX_SIMPLE)\n",
    "\n",
    "# Image=th.copy()\n",
    "\n",
    "\n",
    "# area = []\n",
    "# cord = []\n",
    "\n",
    "# for contour in contours:\n",
    "#     #get rectangle bounding contour\n",
    "#     [x, y, w, h] = cv2.boundingRect(contour)\n",
    "#     cv2.rectangle(Image, (x, y), (x + w, y + h), (150, 160, 154),2)\n",
    "    \n",
    "#     if(w*h>20):\n",
    "#         cord.append((x,y,w,h))\n",
    "#         area.append(w*h)\n",
    "    \n",
    "# newchar =[]\n",
    "# newchar = sepwords(Image,cord[1:])\n",
    "    \n",
    "\n",
    "# plt.subplot(2,1,1),plt.imshow(th,'gray')\n",
    "# plt.title('Image'),plt.xticks([]),plt.yticks([])\n",
    "\n",
    "# plt.subplot(2,1,2),plt.imshow(Image,'gray')\n",
    "# plt.title('Image with contours'),plt.xticks([]),plt.yticks([])\n"
   ]
  }
 ],
 "metadata": {
  "kernelspec": {
   "display_name": "Python 3",
   "language": "python",
   "name": "python3"
  },
  "language_info": {
   "codemirror_mode": {
    "name": "ipython",
    "version": 3
   },
   "file_extension": ".py",
   "mimetype": "text/x-python",
   "name": "python",
   "nbconvert_exporter": "python",
   "pygments_lexer": "ipython3",
   "version": "3.5.2"
  }
 },
 "nbformat": 4,
 "nbformat_minor": 2
}
